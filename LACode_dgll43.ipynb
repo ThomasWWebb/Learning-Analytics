{
  "nbformat": 4,
  "nbformat_minor": 0,
  "metadata": {
    "colab": {
      "name": "Learning Analytics dgll43.ipynb",
      "provenance": [],
      "collapsed_sections": []
    },
    "kernelspec": {
      "name": "python3",
      "display_name": "Python 3"
    },
    "language_info": {
      "name": "python"
    }
  },
  "cells": [
    {
      "cell_type": "code",
      "metadata": {
        "id": "pLLLIaQvxZll"
      },
      "source": [
        "#CIS Username:dgll43"
      ],
      "execution_count": 1,
      "outputs": []
    },
    {
      "cell_type": "code",
      "metadata": {
        "id": "NHxfJbjulTtN"
      },
      "source": [
        "import numpy as np\n",
        "import pandas as pd\n",
        "import matplotlib.pyplot as plt\n",
        "%matplotlib inline\n",
        "import seaborn as sns\n",
        "import time, sys\n",
        "from google.colab import files\n",
        "import os"
      ],
      "execution_count": 2,
      "outputs": []
    },
    {
      "cell_type": "markdown",
      "metadata": {
        "id": "D6OgTThPedCp"
      },
      "source": [
        "### Initial Dataset loading and formatting"
      ]
    },
    {
      "cell_type": "code",
      "metadata": {
        "id": "gwd-JEWJIq-w",
        "colab": {
          "base_uri": "https://localhost:8080/"
        },
        "outputId": "b3fed47c-c745-4f37-cf4d-fcfa1ec7e562"
      },
      "source": [
        "#Collect and unzip the OULAD dataset\n",
        "#The data is available from https://github.com/ThomasWWebb/learning-analytics and the original data can be found at https://analyse.kmi.open.ac.uk/open_dataset\n",
        "!sudo apt-get install unzip\n",
        "!wget https://raw.githubusercontent.com/thomaswwebb/learning-analytics/master/OULAD/oulad.zip\n",
        "!unzip oulad.zip -d OULAD"
      ],
      "execution_count": 3,
      "outputs": [
        {
          "output_type": "stream",
          "text": [
            "Reading package lists... Done\n",
            "Building dependency tree       \n",
            "Reading state information... Done\n",
            "unzip is already the newest version (6.0-21ubuntu1.1).\n",
            "The following package was automatically installed and is no longer required:\n",
            "  libnvidia-common-460\n",
            "Use 'sudo apt autoremove' to remove it.\n",
            "0 upgraded, 0 newly installed, 0 to remove and 34 not upgraded.\n",
            "--2021-05-31 08:43:00--  https://raw.githubusercontent.com/thomaswwebb/learning-analytics/master/OULAD/oulad.zip\n",
            "Resolving raw.githubusercontent.com (raw.githubusercontent.com)... 185.199.108.133, 185.199.110.133, 185.199.109.133, ...\n",
            "Connecting to raw.githubusercontent.com (raw.githubusercontent.com)|185.199.108.133|:443... connected.\n",
            "HTTP request sent, awaiting response... 200 OK\n",
            "Length: 47552529 (45M) [application/zip]\n",
            "Saving to: ‘oulad.zip’\n",
            "\n",
            "oulad.zip           100%[===================>]  45.35M  56.4MB/s    in 0.8s    \n",
            "\n",
            "2021-05-31 08:43:01 (56.4 MB/s) - ‘oulad.zip’ saved [47552529/47552529]\n",
            "\n",
            "Archive:  oulad.zip\n",
            "  inflating: OULAD/assessments.csv   \n",
            "  inflating: OULAD/courses.csv       \n",
            "  inflating: OULAD/studentAssessment.csv  \n",
            "  inflating: OULAD/studentInfo.csv   \n",
            "  inflating: OULAD/studentRegistration.csv  \n",
            "  inflating: OULAD/studentVle.csv    \n",
            "  inflating: OULAD/vle.csv           \n"
          ],
          "name": "stdout"
        }
      ]
    },
    {
      "cell_type": "code",
      "metadata": {
        "id": "eo_zUy8lnNMD"
      },
      "source": [
        "#Load the dataset into the notebook\n",
        "student_info = pd.read_csv('OULAD/studentInfo.csv', engine='python')\n",
        "student_reg = pd.read_csv('OULAD/studentRegistration.csv', engine='python')\n",
        "courses = pd.read_csv('OULAD/courses.csv', engine='python')\n",
        "assessments = pd.read_csv('OULAD/assessments.csv', engine='python')\n",
        "student_assessment = pd.read_csv('OULAD/studentAssessment.csv', engine='python')\n",
        "student_vle = pd.read_csv(\"OULAD/studentVle.csv\", engine='c')\n",
        "vle = pd.read_csv('OULAD/vle.csv', engine='python')"
      ],
      "execution_count": 4,
      "outputs": []
    },
    {
      "cell_type": "code",
      "metadata": {
        "id": "Ko3kGrzK1Yve"
      },
      "source": [
        "#Selects the subsection of the OULAD dataset that we focus upon in this work\n",
        "min_code_presentation = \"2014B\"\n",
        "min_code_module = \"DDD\"\n",
        "min_student_info = student_info[(student_info.code_module==min_code_module) & (student_info.code_presentation == min_code_presentation)]"
      ],
      "execution_count": 5,
      "outputs": []
    },
    {
      "cell_type": "code",
      "metadata": {
        "id": "yEaYmxAEIHHD"
      },
      "source": [
        "#Merge tables for more efficient feature engineering later on\n",
        "merged_student_vle = pd.merge(student_vle, vle,  how=\"left\", on=[\"code_module\",\"code_presentation\", \"id_site\"])\n",
        "merged_assessments = pd.merge(student_assessment, assessments, how=\"left\", on=\"id_assessment\")\n",
        "merged_assessments = pd.merge(merged_assessments, courses,  how=\"left\", on=[\"code_module\", \"code_presentation\"])\n",
        "merged_assessments.date=np.select([merged_assessments['assessment_type'] ==\"Exam\"],[merged_assessments.module_presentation_length],default=merged_assessments.date) #Exams take place in the last week of teaching"
      ],
      "execution_count": 6,
      "outputs": []
    },
    {
      "cell_type": "markdown",
      "metadata": {
        "id": "mBDdS4Slx-ny"
      },
      "source": [
        "### Feature Engineering"
      ]
    },
    {
      "cell_type": "code",
      "metadata": {
        "id": "J3A0YyB4Iucg"
      },
      "source": [
        "def get_extra_features(student_info, merged_assessments, assessments, merged_student_vle, time_prop): #Generates the aggregate features set out in the Feature engineering section of the paperfor a given duration of the course\n",
        "  relative_scores = []\n",
        "  late_scores = []\n",
        "  raw_score = []\n",
        "\n",
        "  sum_clicks = []\n",
        "  collab_clicks = []\n",
        "  course_struct_clicks = []\n",
        "  course_content_clicks = []\n",
        "  eval_clicks = []\n",
        "  assess_complete = []\n",
        "\n",
        "  #Defines the activity types for each commitment feature type\n",
        "  collab_types = [\"forumng\", \"ouwiki\", \"oucollaborate\", \"ouelluminate\"]\n",
        "  course_struct_types = [\"glossary\", \"homepage\", \"dataplus\", \"folder\"]\n",
        "  course_content_types = [\"resource\", \"url\", \"oucontent\", \"page\", \"subpage\", \"sharedsubpage\", \"repeatactivity\", \"dualpane\", \"repeatactivity\"]\n",
        "  eval_types = [\"quiz\", \"questionnaire\", \"externalquiz\"]\n",
        "\n",
        "  for index, row in student_info.iterrows():\n",
        "    id_student = row.id_student\n",
        "    code_module = row.code_module\n",
        "    code_presentation = row.code_presentation\n",
        "    date_cutoff = time_prop * merged_assessments.iloc[0].module_presentation_length #the final date of the given course proportion\n",
        "    #All assessments this student has completed regardless of cutoff date\n",
        "    indiv_student_assess = merged_assessments[(merged_assessments.id_student == id_student) & (merged_assessments.code_module == code_module) & (merged_assessments.code_presentation == code_presentation) ]\n",
        "    module_assess = assessments[(assessments.code_module == code_module) & (assessments.code_presentation == code_presentation)]\n",
        "    max_weight = module_assess.weight.sum()\n",
        "    max_assess = len(module_assess.weight)\n",
        "    pair_assess = indiv_student_assess[indiv_student_assess.date_submitted <= date_cutoff]#Only assessment submitted before or on the cutoff date\n",
        "    late_assess = pair_assess[pair_assess.date_submitted >  pair_assess.date] # proportion of assessments submitted late \n",
        "    late_scores.append(len(late_assess))\n",
        "    raw_score.append(pair_assess.score.sum()) #unweighted sum of assessment scores so far \n",
        "    relative_scores.append((pair_assess.score * (pair_assess.weight/max_weight)).sum()) # weighted sum of assessment scores\n",
        "    assess_complete.append(len(pair_assess.score)/max_assess) #proportion of assessments completed\n",
        "    #All student interactions up until the cutoff date\n",
        "    student_clicks = merged_student_vle[(merged_student_vle.id_student == id_student) & (merged_student_vle.code_module == code_module) & (merged_student_vle.code_presentation == code_presentation) & (merged_student_vle.date <= date_cutoff)]\n",
        "    sum_clicks.append(student_clicks.sum_click.sum()) #sum of all clicks \n",
        "    collab_clicks.append(student_clicks[student_clicks.activity_type.isin(collab_types)].sum_click.sum()) #each click sum here and below is the sum of interactions for the previously defined sets of activity types\n",
        "    course_struct_clicks.append(student_clicks[student_clicks.activity_type.isin(course_struct_types)].sum_click.sum())\n",
        "    course_content_clicks.append(student_clicks[student_clicks.activity_type.isin(course_content_types)].sum_click.sum())\n",
        "    eval_clicks.append(student_clicks[student_clicks.activity_type.isin(eval_types)].sum_click.sum())\n",
        "    if len(relative_scores) % 100 == 0:\n",
        "      perc = round(len(relative_scores) / len(student_info) * 100, 0)\n",
        "      sys.stdout.write(\"\\r\" + f\"{perc}% completed\")\n",
        "      sys.stdout.flush()\n",
        "  perc = round(len(relative_scores) / len(student_info) * 100, 0)\n",
        "  sys.stdout.write(\"\\r\" + f\"{perc}% completed\")\n",
        "  sys.stdout.flush()\n",
        "  return relative_scores, late_scores, raw_score, sum_clicks, collab_clicks, course_struct_clicks, course_content_clicks, eval_clicks, assess_complete\n",
        "\n",
        "def add_extra_features(min_student_info, engineered_features): #Adds the extracted features as new columns in the student information dataframe\n",
        "  expanded_student_info = min_student_info.copy()\n",
        "  expanded_student_info = expanded_student_info.assign(relative_score = engineered_features[0])\n",
        "  expanded_student_info = expanded_student_info.assign(late_score = engineered_features[1])\n",
        "  expanded_student_info = expanded_student_info.assign(raw_score = engineered_features[2])\n",
        "  expanded_student_info = expanded_student_info.assign(sum_click = engineered_features[3])\n",
        "  expanded_student_info = expanded_student_info.assign(collab_click = engineered_features[4])\n",
        "  expanded_student_info = expanded_student_info.assign(course_struct_click = engineered_features[5])\n",
        "  expanded_student_info = expanded_student_info.assign(course_content_click = engineered_features[6])\n",
        "  expanded_student_info = expanded_student_info.assign(eval_click = engineered_features[7])\n",
        "  expanded_student_info = expanded_student_info.assign(assess_complete = engineered_features[8])\n",
        "  return expanded_student_info\n",
        "\n",
        "def convert_to_numeric_df(expanded_student_info): #Encodes the non-numeric entries of student data, encoding as a sequence for ordinal categories and using label encoding for non-ordinal categorical data\n",
        "  expanded_student_info.gender = expanded_student_info.gender.replace({\"M\":0, \"F\":1})\n",
        "  expanded_student_info.highest_education = expanded_student_info.highest_education.replace({\"No Formal quals\":0, \"Lower Than A Level\":1, \"A Level or Equivalent\":2, \"HE Qualification\":3, \"Post Graduate Qualification\":4})\n",
        "  expanded_student_info.imd_band = expanded_student_info.imd_band.replace(['0-10%','10-20', '20-30%', '30-40%','40-50%', '50-60%','60-70%','70-80%','80-90%','90-100%'], [0,1,2,3,4,5,6,7,8,9])\n",
        "  expanded_student_info.imd_band = expanded_student_info.imd_band.fillna(int(round(expanded_student_info.imd_band.mean(), 0)))\n",
        "  expanded_student_info.age_band = expanded_student_info.age_band.replace(['0-35','35-55','55<='], [0,1,2])\n",
        "  expanded_student_info.disability = expanded_student_info.disability.replace({\"N\":0, \"Y\":1})\n",
        "  expanded_student_info.final_result = expanded_student_info.final_result.replace({\"Withdrawn\":1, \"Fail\":0, \"Pass\":0, \"Distinction\":0})  \n",
        "  expanded_student_info.code_module = expanded_student_info.code_module.astype('category')\n",
        "  expanded_student_info.code_module = expanded_student_info.code_module.cat.codes\n",
        "  expanded_student_info.code_presentation = expanded_student_info.code_presentation.astype('category')\n",
        "  expanded_student_info.code_presentation = expanded_student_info.code_presentation.cat.codes\n",
        "  expanded_student_info.region = expanded_student_info.region.astype('category')\n",
        "  expanded_student_info.region = expanded_student_info.region.cat.codes  \n",
        "  return expanded_student_info"
      ],
      "execution_count": 7,
      "outputs": []
    },
    {
      "cell_type": "markdown",
      "metadata": {
        "id": "JuW3ZQ4Lg12R"
      },
      "source": [
        "**The cell below will extract and append the new features to generate a set of vectors for each course duration - this will take around two hours. An alternative in the cell below reads in pre-extracted features from the same repository from which the dataset was read in**"
      ]
    },
    {
      "cell_type": "code",
      "metadata": {
        "colab": {
          "base_uri": "https://localhost:8080/",
          "height": 51
        },
        "id": "IoNqoJFMBgYG",
        "outputId": "ad907cdb-fddf-4e88-c528-2a36450588a4"
      },
      "source": [
        "time_props = [0.25, 0.5, 0.75, 1.0]\n",
        "expanded_student_infos = []\n",
        "for time_prop in time_props:\n",
        "  engineered_features = get_extra_features(min_student_info, merged_assessments, assessments, merged_student_vle, time_prop=time_prop)\n",
        "  expanded_student_info = add_extra_features(min_student_info, engineered_features)\n",
        "  expanded_student_infos.append(expanded_student_info)"
      ],
      "execution_count": null,
      "outputs": [
        {
          "output_type": "stream",
          "text": [
            "1.0\n",
            "100.0% completed"
          ],
          "name": "stdout"
        },
        {
          "output_type": "display_data",
          "data": {
            "application/javascript": [
              "\n",
              "    async function download(id, filename, size) {\n",
              "      if (!google.colab.kernel.accessAllowed) {\n",
              "        return;\n",
              "      }\n",
              "      const div = document.createElement('div');\n",
              "      const label = document.createElement('label');\n",
              "      label.textContent = `Downloading \"${filename}\": `;\n",
              "      div.appendChild(label);\n",
              "      const progress = document.createElement('progress');\n",
              "      progress.max = size;\n",
              "      div.appendChild(progress);\n",
              "      document.body.appendChild(div);\n",
              "\n",
              "      const buffers = [];\n",
              "      let downloaded = 0;\n",
              "\n",
              "      const channel = await google.colab.kernel.comms.open(id);\n",
              "      // Send a message to notify the kernel that we're ready.\n",
              "      channel.send({})\n",
              "\n",
              "      for await (const message of channel.messages) {\n",
              "        // Send a message to notify the kernel that we're ready.\n",
              "        channel.send({})\n",
              "        if (message.buffers) {\n",
              "          for (const buffer of message.buffers) {\n",
              "            buffers.push(buffer);\n",
              "            downloaded += buffer.byteLength;\n",
              "            progress.value = downloaded;\n",
              "          }\n",
              "        }\n",
              "      }\n",
              "      const blob = new Blob(buffers, {type: 'application/binary'});\n",
              "      const a = document.createElement('a');\n",
              "      a.href = window.URL.createObjectURL(blob);\n",
              "      a.download = filename;\n",
              "      div.appendChild(a);\n",
              "      a.click();\n",
              "      div.remove();\n",
              "    }\n",
              "  "
            ],
            "text/plain": [
              "<IPython.core.display.Javascript object>"
            ]
          },
          "metadata": {
            "tags": []
          }
        },
        {
          "output_type": "display_data",
          "data": {
            "application/javascript": [
              "download(\"download_fcd508aa-c8d3-4a35-ba77-8b4fced2cf9d\", \"expanded_student_info_DDD_14B_100.csv\", 160971)"
            ],
            "text/plain": [
              "<IPython.core.display.Javascript object>"
            ]
          },
          "metadata": {
            "tags": []
          }
        }
      ]
    },
    {
      "cell_type": "code",
      "metadata": {
        "colab": {
          "base_uri": "https://localhost:8080/"
        },
        "id": "5kC0lmN1QDNZ",
        "outputId": "e404455c-903b-404a-b3b6-8c4f25596ca6"
      },
      "source": [
        "#The alternative to re-running the feature extraction above\n",
        "!wget https://raw.githubusercontent.com/thomaswwebb/learning-analytics/master/expanded_student_info.zip\n",
        "!unzip expanded_student_info.zip -d expanded_student_info\n",
        "time_props = [25, 50, 75, 100]\n",
        "expanded_student_infos = []\n",
        "for time_prop in time_props:\n",
        "  expanded_student_infos.append(pd.read_csv(f'expanded_student_info/expanded_student_info_DDD_14B_{time_prop}.csv', engine='python', index_col=0))"
      ],
      "execution_count": 8,
      "outputs": [
        {
          "output_type": "stream",
          "text": [
            "--2021-05-31 08:43:25--  https://raw.githubusercontent.com/thomaswwebb/learning-analytics/master/expanded_student_info.zip\n",
            "Resolving raw.githubusercontent.com (raw.githubusercontent.com)... 185.199.110.133, 185.199.108.133, 185.199.111.133, ...\n",
            "Connecting to raw.githubusercontent.com (raw.githubusercontent.com)|185.199.110.133|:443... connected.\n",
            "HTTP request sent, awaiting response... 200 OK\n",
            "Length: 138214 (135K) [application/zip]\n",
            "Saving to: ‘expanded_student_info.zip’\n",
            "\n",
            "\r          expanded_   0%[                    ]       0  --.-KB/s               \rexpanded_student_in 100%[===================>] 134.97K  --.-KB/s    in 0.02s   \n",
            "\n",
            "2021-05-31 08:43:25 (5.92 MB/s) - ‘expanded_student_info.zip’ saved [138214/138214]\n",
            "\n",
            "Archive:  expanded_student_info.zip\n",
            "  inflating: expanded_student_info/expanded_student_info_DDD_14B_100.csv  \n",
            "  inflating: expanded_student_info/expanded_student_info_DDD_14B_25.csv  \n",
            "  inflating: expanded_student_info/expanded_student_info_DDD_14B_50.csv  \n",
            "  inflating: expanded_student_info/expanded_student_info_DDD_14B_75.csv  \n"
          ],
          "name": "stdout"
        }
      ]
    },
    {
      "cell_type": "code",
      "metadata": {
        "colab": {
          "base_uri": "https://localhost:8080/",
          "height": 224
        },
        "id": "XNBo317YR5U2",
        "outputId": "cb55f4fa-cb36-464d-a47f-1657a0da20b6"
      },
      "source": [
        "#Encodes the non-numeric data for each course duration feature set\n",
        "#We encode course completition by a learner as 0 and dropout as 1\n",
        "for index in range(len(expanded_student_infos)):\n",
        "  expanded_student_infos[index] = convert_to_numeric_df(expanded_student_infos[index])\n",
        "expanded_student_infos[0].head()"
      ],
      "execution_count": 9,
      "outputs": [
        {
          "output_type": "execute_result",
          "data": {
            "text/html": [
              "<div>\n",
              "<style scoped>\n",
              "    .dataframe tbody tr th:only-of-type {\n",
              "        vertical-align: middle;\n",
              "    }\n",
              "\n",
              "    .dataframe tbody tr th {\n",
              "        vertical-align: top;\n",
              "    }\n",
              "\n",
              "    .dataframe thead th {\n",
              "        text-align: right;\n",
              "    }\n",
              "</style>\n",
              "<table border=\"1\" class=\"dataframe\">\n",
              "  <thead>\n",
              "    <tr style=\"text-align: right;\">\n",
              "      <th></th>\n",
              "      <th>code_module</th>\n",
              "      <th>code_presentation</th>\n",
              "      <th>id_student</th>\n",
              "      <th>gender</th>\n",
              "      <th>region</th>\n",
              "      <th>highest_education</th>\n",
              "      <th>imd_band</th>\n",
              "      <th>age_band</th>\n",
              "      <th>num_of_prev_attempts</th>\n",
              "      <th>studied_credits</th>\n",
              "      <th>disability</th>\n",
              "      <th>final_result</th>\n",
              "      <th>relative_score</th>\n",
              "      <th>late_score</th>\n",
              "      <th>raw_score</th>\n",
              "      <th>sum_click</th>\n",
              "      <th>collab_click</th>\n",
              "      <th>course_struct_click</th>\n",
              "      <th>course_content_click</th>\n",
              "      <th>eval_click</th>\n",
              "      <th>assess_complete</th>\n",
              "    </tr>\n",
              "  </thead>\n",
              "  <tbody>\n",
              "    <tr>\n",
              "      <th>16332</th>\n",
              "      <td>0</td>\n",
              "      <td>0</td>\n",
              "      <td>24213</td>\n",
              "      <td>1</td>\n",
              "      <td>0</td>\n",
              "      <td>2</td>\n",
              "      <td>4.0</td>\n",
              "      <td>0</td>\n",
              "      <td>1</td>\n",
              "      <td>60</td>\n",
              "      <td>0</td>\n",
              "      <td>0</td>\n",
              "      <td>9.5875</td>\n",
              "      <td>1</td>\n",
              "      <td>169.0</td>\n",
              "      <td>749</td>\n",
              "      <td>430</td>\n",
              "      <td>113</td>\n",
              "      <td>206</td>\n",
              "      <td>0</td>\n",
              "      <td>0.285714</td>\n",
              "    </tr>\n",
              "    <tr>\n",
              "      <th>16333</th>\n",
              "      <td>0</td>\n",
              "      <td>0</td>\n",
              "      <td>28149</td>\n",
              "      <td>0</td>\n",
              "      <td>0</td>\n",
              "      <td>2</td>\n",
              "      <td>6.0</td>\n",
              "      <td>1</td>\n",
              "      <td>0</td>\n",
              "      <td>60</td>\n",
              "      <td>0</td>\n",
              "      <td>1</td>\n",
              "      <td>0.0000</td>\n",
              "      <td>0</td>\n",
              "      <td>0.0</td>\n",
              "      <td>0</td>\n",
              "      <td>0</td>\n",
              "      <td>0</td>\n",
              "      <td>0</td>\n",
              "      <td>0</td>\n",
              "      <td>0.000000</td>\n",
              "    </tr>\n",
              "    <tr>\n",
              "      <th>16334</th>\n",
              "      <td>0</td>\n",
              "      <td>0</td>\n",
              "      <td>31269</td>\n",
              "      <td>1</td>\n",
              "      <td>1</td>\n",
              "      <td>2</td>\n",
              "      <td>3.0</td>\n",
              "      <td>1</td>\n",
              "      <td>1</td>\n",
              "      <td>120</td>\n",
              "      <td>0</td>\n",
              "      <td>1</td>\n",
              "      <td>6.4375</td>\n",
              "      <td>0</td>\n",
              "      <td>112.0</td>\n",
              "      <td>530</td>\n",
              "      <td>183</td>\n",
              "      <td>115</td>\n",
              "      <td>232</td>\n",
              "      <td>0</td>\n",
              "      <td>0.285714</td>\n",
              "    </tr>\n",
              "    <tr>\n",
              "      <th>16335</th>\n",
              "      <td>0</td>\n",
              "      <td>0</td>\n",
              "      <td>35502</td>\n",
              "      <td>0</td>\n",
              "      <td>11</td>\n",
              "      <td>3</td>\n",
              "      <td>3.0</td>\n",
              "      <td>0</td>\n",
              "      <td>0</td>\n",
              "      <td>60</td>\n",
              "      <td>0</td>\n",
              "      <td>1</td>\n",
              "      <td>3.3000</td>\n",
              "      <td>0</td>\n",
              "      <td>66.0</td>\n",
              "      <td>545</td>\n",
              "      <td>55</td>\n",
              "      <td>169</td>\n",
              "      <td>317</td>\n",
              "      <td>4</td>\n",
              "      <td>0.142857</td>\n",
              "    </tr>\n",
              "    <tr>\n",
              "      <th>16336</th>\n",
              "      <td>0</td>\n",
              "      <td>0</td>\n",
              "      <td>39660</td>\n",
              "      <td>1</td>\n",
              "      <td>5</td>\n",
              "      <td>1</td>\n",
              "      <td>0.0</td>\n",
              "      <td>0</td>\n",
              "      <td>0</td>\n",
              "      <td>120</td>\n",
              "      <td>0</td>\n",
              "      <td>0</td>\n",
              "      <td>9.5625</td>\n",
              "      <td>0</td>\n",
              "      <td>170.0</td>\n",
              "      <td>474</td>\n",
              "      <td>135</td>\n",
              "      <td>150</td>\n",
              "      <td>184</td>\n",
              "      <td>5</td>\n",
              "      <td>0.285714</td>\n",
              "    </tr>\n",
              "  </tbody>\n",
              "</table>\n",
              "</div>"
            ],
            "text/plain": [
              "       code_module  code_presentation  ...  eval_click  assess_complete\n",
              "16332            0                  0  ...           0         0.285714\n",
              "16333            0                  0  ...           0         0.000000\n",
              "16334            0                  0  ...           0         0.285714\n",
              "16335            0                  0  ...           4         0.142857\n",
              "16336            0                  0  ...           5         0.285714\n",
              "\n",
              "[5 rows x 21 columns]"
            ]
          },
          "metadata": {
            "tags": []
          },
          "execution_count": 9
        }
      ]
    },
    {
      "cell_type": "markdown",
      "metadata": {
        "id": "Cnsfr1jSdOVE"
      },
      "source": [
        "### **Exploratory Data Analysis (Descriptive)**"
      ]
    },
    {
      "cell_type": "code",
      "metadata": {
        "colab": {
          "base_uri": "https://localhost:8080/",
          "height": 456
        },
        "id": "hLl3sPg5bulO",
        "outputId": "21efca50-9719-4ffb-e26a-2a01b8996b1b"
      },
      "source": [
        "class_dist_plot = sns.catplot(x=\"final_result\", data=expanded_student_infos[0], kind=\"count\", height=5) #Plotting the class distribution, which will be contstant over time.\n",
        "class_dist_plot.fig.suptitle(\"Class Distribution\")\n",
        "plt.show()\n",
        "print(expanded_student_infos[0][[\"id_student\", \"final_result\"]].groupby('final_result').count())"
      ],
      "execution_count": 10,
      "outputs": [
        {
          "output_type": "display_data",
          "data": {
            "image/png": "[encoded data removed]",
            "text/plain": [
              "<Figure size 360x360 with 1 Axes>"
            ]
          },
          "metadata": {
            "tags": [],
            "needs_background": "light"
          }
        },
        {
          "output_type": "stream",
          "text": [
            "              id_student\n",
            "final_result            \n",
            "0                    738\n",
            "1                    490\n"
          ],
          "name": "stdout"
        }
      ]
    },
    {
      "cell_type": "markdown",
      "metadata": {
        "id": "s6SO-UD0jkzz"
      },
      "source": [
        "We find that there is a class imbalance with dropouts (1) as the minority class. There are 738 samples of students who complete the course and only 490 students that withdraw, resulting in a 60.1%/39.9% imbalance"
      ]
    },
    {
      "cell_type": "markdown",
      "metadata": {
        "id": "MQNDSQ1NepWp"
      },
      "source": [
        "### Feature Correlation"
      ]
    },
    {
      "cell_type": "code",
      "metadata": {
        "id": "fpnaZ705itAH"
      },
      "source": [
        "from collections import Counter\n",
        "import scipy.stats as ss\n",
        "import matplotlib.pyplot as plt\n",
        "import math\n",
        "\n",
        "#https://www.kaggle.com/akshay22071995/alone-in-the-woods-using-theil-s-u-for-survival\n",
        "def conditional_entropy(x,y): #claculates how much information one variable contains about the other for use in the uncertainty coefficient\n",
        "    # entropy of x given y\n",
        "    y_counter = Counter(y)\n",
        "    xy_counter = Counter(list(zip(x,y)))\n",
        "    total_occurrences = sum(y_counter.values())\n",
        "    entropy = 0\n",
        "    for xy in xy_counter.keys():\n",
        "        p_xy = xy_counter[xy] / total_occurrences\n",
        "        p_y = y_counter[xy[1]] / total_occurrences\n",
        "        entropy += p_xy * math.log(p_y/p_xy)\n",
        "    return entropy\n",
        "\n",
        "#https://www.kaggle.com/akshay22071995/alone-in-the-woods-using-theil-s-u-for-survival\n",
        "def theil_u(x,y): #Thiel's U, or the uncertainty coefficient, can be used as an alternative for correlation when examining non-ordinal categorical data\n",
        "    s_xy = conditional_entropy(x,y)\n",
        "    x_counter = Counter(x)\n",
        "    total_occurrences = sum(x_counter.values())\n",
        "    p_x = list(map(lambda n: n/total_occurrences, x_counter.values()))\n",
        "    s_x = ss.entropy(p_x)\n",
        "    if s_x == 0:\n",
        "        return 1\n",
        "    else:\n",
        "        return (s_x - s_xy) / s_x\n",
        "\n",
        "def show_theiel_u(df, figsize=(7,7), columns=None): #applies Thiel's U to the sepecified columns of a dataframe\n",
        "  if columns is None:\n",
        "    columns = list(student_info.columns)\n",
        "  big_theilu = pd.DataFrame()\n",
        "  for i in range(0,len(columns)):\n",
        "    theilu = pd.DataFrame(index=[columns[i]],columns=columns)\n",
        "    for j in range(0,len(columns)):\n",
        "        u = theil_u(df[columns[i]].tolist(),df[columns[j]].tolist())\n",
        "        theilu.loc[:,columns[j]] = u\n",
        "    big_theilu = big_theilu.append(theilu)\n",
        "  big_theilu.fillna(value=np.nan,inplace=True)\n",
        "  plt.figure(figsize=figsize)\n",
        "  sns.heatmap(big_theilu,annot=True,fmt='.2f', cmap=\"Greens\", vmin=0, vmax=1)\n",
        "  plt.show()\n",
        "\n",
        "def show_pearson(df, cmap=\"vlag\", figsize=(10,5)): #Displays a heatmap for the calculated pearson coefficient values\n",
        "  plt.figure(figsize=figsize)\n",
        "  sns.heatmap(df.corr(),cmap=cmap,annot=True, vmin=-1, vmax=1) "
      ],
      "execution_count": 12,
      "outputs": []
    },
    {
      "cell_type": "markdown",
      "metadata": {
        "id": "KejcrxrpVrr-"
      },
      "source": [
        "To evaluate the correlation between non-ordinal catgeorical variables and the final result we use the uncertainty coeffcicient/Thiel's U "
      ]
    },
    {
      "cell_type": "code",
      "metadata": {
        "colab": {
          "base_uri": "https://localhost:8080/",
          "height": 433
        },
        "id": "eyA63bndn667",
        "outputId": "1441e79b-8638-468c-81e2-32978eecaf66"
      },
      "source": [
        "columns = [\"gender\", \"region\", \"disability\", \"final_result\"] #student_info.columns\n",
        "show_theiel_u(expanded_student_infos[0], (7,7), columns)"
      ],
      "execution_count": 13,
      "outputs": [
        {
          "output_type": "display_data",
          "data": {
            "image/png": "[encoded data removed]",
            "text/plain": [
              "<Figure size 504x504 with 2 Axes>"
            ]
          },
          "metadata": {
            "tags": [],
            "needs_background": "light"
          }
        }
      ]
    },
    {
      "cell_type": "markdown",
      "metadata": {
        "id": "wcK9rTz8cmGq"
      },
      "source": [
        "Only disability can be used to slightly decrease the uncertainty of the final result, the other non-ordinal categorical data have a uncertainty coefficient of 0 and so do not impact the dropout probability. Interestingly this means a learner's gender and region do not impact their likelihood of dropout, at least for this specific course presentation. "
      ]
    },
    {
      "cell_type": "code",
      "metadata": {
        "colab": {
          "base_uri": "https://localhost:8080/",
          "height": 388
        },
        "id": "61LeGp4PcL2C",
        "outputId": "e4aa890a-0d83-40cd-bce1-568468500491"
      },
      "source": [
        "disability_plot = sns.catplot(x=\"final_result\", col=\"disability\", data=expanded_student_infos[0], kind=\"count\", height=5)\n",
        "disability_plot.fig.suptitle(\"Dropout of able-bodied vs disabled\")\n",
        "plt.show()"
      ],
      "execution_count": 14,
      "outputs": [
        {
          "output_type": "display_data",
          "data": {
            "image/png": "[encoded data removed]",
            "text/plain": [
              "<Figure size 720x360 with 2 Axes>"
            ]
          },
          "metadata": {
            "tags": [],
            "needs_background": "light"
          }
        }
      ]
    },
    {
      "cell_type": "markdown",
      "metadata": {
        "id": "qg3vLPf-dINm"
      },
      "source": [
        "Learns with a disability are slightly more likely to dropout while those without are less likely to dropout. It's possible that this course may not be able to always effectively adapt to the needs of those with disabilities, or those with disabilities could be more likly to enounter situtations that result in their withdrawal "
      ]
    },
    {
      "cell_type": "code",
      "metadata": {
        "id": "vEVAetojmuHD"
      },
      "source": [
        "#Re-ordering the columns to have final_result as the rightmost column in the heatmaps\n",
        "column_list = expanded_student_infos[0].columns.tolist() \n",
        "column_list.pop(column_list.index(\"final_result\"))\n",
        "column_list.append(\"final_result\")\n",
        "expanded_student_infos[0] = expanded_student_infos[0][column_list]"
      ],
      "execution_count": 15,
      "outputs": []
    },
    {
      "cell_type": "code",
      "metadata": {
        "colab": {
          "base_uri": "https://localhost:8080/",
          "height": 537
        },
        "id": "Dw4Jb-UclnPD",
        "outputId": "2f9e2a9a-9a05-465d-c834-ccd0969b8b94"
      },
      "source": [
        "#Calculating pearson correlation for the student demographic data that remains constant over the course duration\n",
        "expanded_features = [\"relative_score\", \"late_score\", \"raw_score\", \"sum_click\", \"collab_click\", \"course_struct_click\", \"course_content_click\", \"eval_click\", \"assess_complete\"]\n",
        "show_pearson(expanded_student_infos[0].drop([\"code_module\", \"code_presentation\",\"id_student\", \"region\"]+expanded_features, axis=\"columns\"), cmap=sns.diverging_palette(20, 200, as_cmap=True), figsize=(7,7))"
      ],
      "execution_count": 16,
      "outputs": [
        {
          "output_type": "display_data",
          "data": {
            "image/png": "[encoded data removed]",
            "text/plain": [
              "<Figure size 504x504 with 2 Axes>"
            ]
          },
          "metadata": {
            "tags": [],
            "needs_background": "light"
          }
        }
      ]
    },
    {
      "cell_type": "markdown",
      "metadata": {
        "id": "YaodW3e4pf-P"
      },
      "source": [
        "Examining the remaining demogrpahic features, alongside gender and didability that can be encoded in a sequential manner, we find that very few demonstrate any strong correlation. Disability exhibits a similar correlation as examined before and studied_credits has the strongest correlation at 0.16."
      ]
    },
    {
      "cell_type": "code",
      "metadata": {
        "colab": {
          "base_uri": "https://localhost:8080/",
          "height": 388
        },
        "id": "0thFluwdqREU",
        "outputId": "ef2697f4-bdc5-4834-9e81-4e2df69a6971"
      },
      "source": [
        "studied_credits_plot = sns.catplot(x=\"final_result\", y=\"studied_credits\", data=expanded_student_infos[0], height=5, kind=\"boxen\")\n",
        "studied_credits_plot.fig.suptitle(\"Studied Credits for Completition vs Withdrawn\")\n",
        "plt.show()"
      ],
      "execution_count": 17,
      "outputs": [
        {
          "output_type": "display_data",
          "data": {
            "image/png": "[encoded data removed]",
            "text/plain": [
              "<Figure size 360x360 with 1 Axes>"
            ]
          },
          "metadata": {
            "tags": [],
            "needs_background": "light"
          }
        }
      ]
    },
    {
      "cell_type": "markdown",
      "metadata": {
        "id": "BfTgLDLqyRCD"
      },
      "source": [
        "There are slightly different studied_credits distributions for learners who complete the module (0) compared to those who withdraw (1). We find that learners who have studied or are studying fewer credits are less likely to dropout while those later in their studies or studying more modules are more likely to dropout. This could be down to some learners intially registering for multiple modules and reducing the number as the courses progress. Similarly it may be due to students that select a smaller number of credits will be more nvested in those selected modules. \n"
      ]
    },
    {
      "cell_type": "code",
      "metadata": {
        "colab": {
          "base_uri": "https://localhost:8080/",
          "height": 635
        },
        "id": "t5dmeLtToitT",
        "outputId": "9b23a0f4-a1f1-4192-b35b-8d1b5c454fb6"
      },
      "source": [
        "#Calculating pearson correlation for temporal clickstream features and assessment features\n",
        "show_pearson(expanded_student_infos[0][expanded_features + [\"final_result\"]], cmap=sns.diverging_palette(20, 200, as_cmap=True), figsize=(9,9))"
      ],
      "execution_count": 18,
      "outputs": [
        {
          "output_type": "display_data",
          "data": {
            "image/png": "[encoded data removed]",
            "text/plain": [
              "<Figure size 648x648 with 2 Axes>"
            ]
          },
          "metadata": {
            "tags": [],
            "needs_background": "light"
          }
        }
      ]
    },
    {
      "cell_type": "markdown",
      "metadata": {
        "id": "Aho3FnkCgRt0"
      },
      "source": [
        "We calculate the pearson correlation coefficients our generated features based on temporal data that aim to capture higher level semantic information. We use the 25% propotion of the course duration feature vectors as part for demonstration of the analysis alongside the fact that featurs that are indicators from the earliest point in the course are the most valuable. \n",
        "\n",
        "Our generated features display a much higher level of correlation with the fina result than the previous demographic data. This demonstrates the importance of temporal data as well as the potential for this features to capture the indication of high-dimensional features in a low dimensional space. \n",
        "\n",
        "The raw score feature has the highest correlation at -0.55, a high value even with only 25% of the data. "
      ]
    },
    {
      "cell_type": "code",
      "metadata": {
        "colab": {
          "base_uri": "https://localhost:8080/",
          "height": 388
        },
        "id": "VqwdUHYf4Kn5",
        "outputId": "2c2b115d-805a-49bd-e7ba-defa1dec3f40"
      },
      "source": [
        "studied_credits_plot = sns.catplot(x=\"final_result\", y=\"raw_score\", data=expanded_student_infos[0], height=5, kind=\"violin\")\n",
        "studied_credits_plot.fig.suptitle(\"Raw Score for Completition vs Withdrawn\")\n",
        "plt.ylim(0, None)\n",
        "plt.show()"
      ],
      "execution_count": 19,
      "outputs": [
        {
          "output_type": "display_data",
          "data": {
            "image/png": "[encoded data removed]",
            "text/plain": [
              "<Figure size 360x360 with 1 Axes>"
            ]
          },
          "metadata": {
            "tags": [],
            "needs_background": "light"
          }
        }
      ]
    },
    {
      "cell_type": "markdown",
      "metadata": {
        "id": "TiIdzVl24xWS"
      },
      "source": [
        "Reasonably, the learners that continue the course to completion have a higher raw score on average, even with only 25% of the course completed. Learners that tend to dropout tend to have much lower raw scores at this point. "
      ]
    },
    {
      "cell_type": "markdown",
      "metadata": {
        "id": "BZFtHYTy6fKW"
      },
      "source": [
        "### **Predictive Modelling (Predictive)**"
      ]
    },
    {
      "cell_type": "code",
      "metadata": {
        "id": "_0CAJUEsVOZj"
      },
      "source": [
        "from sklearn.ensemble import RandomForestClassifier\n",
        "from sklearn.linear_model import LogisticRegression\n",
        "from sklearn.svm import SVC\n",
        "import datetime\n",
        "from sklearn.model_selection import KFold\n",
        "from imblearn.over_sampling import SMOTE, RandomOverSampler\n",
        "from imblearn.under_sampling import RandomUnderSampler\n",
        "from sklearn import metrics\n",
        "from sklearn.metrics import confusion_matrix,accuracy_score,roc_auc_score,roc_curve,auc,f1_score, precision_score, recall_score, accuracy_score\n",
        "from statistics import mean\n",
        "import matplotlib.ticker as ticker"
      ],
      "execution_count": 21,
      "outputs": []
    },
    {
      "cell_type": "code",
      "metadata": {
        "id": "EWYm3pt1Xjxd"
      },
      "source": [
        "from sklearn.model_selection import cross_val_predict, train_test_split\n",
        "from sklearn.metrics import classification_report, confusion_matrix\n",
        "from sklearn.ensemble import RandomForestClassifier, ExtraTreesClassifier, GradientBoostingClassifier, VotingClassifier\n",
        "from sklearn.linear_model import LogisticRegression\n",
        "from sklearn import svm\n",
        "from sklearn.neural_network import MLPClassifier\n",
        "from sklearn.metrics import average_precision_score, precision_recall_curve, balanced_accuracy_score\n",
        "import tensorflow as tf\n",
        "from tensorflow import keras\n",
        "from sklearn.metrics import precision_score, recall_score, accuracy_score, f1_score\n",
        "from sklearn.neural_network import MLPClassifier\n",
        "from sklearn import svm\n",
        "from sklearn.svm import SVC\n",
        "from sklearn.tree import DecisionTreeClassifier\n",
        "import warnings\n",
        "\n",
        "#Adapted from the LA-Descriptive-Predictive-Analytics.ipynb example notebook\n",
        "#Trains and tests the given classifier over a k-foldrf dataset, averaging the fold results and returning them\n",
        "def train_and_split_validation(clf, expanded_student_info, num_splits):\n",
        "  smote = SMOTE(random_state=0)\n",
        "  kf = KFold(n_splits=num_splits)\n",
        "  kf.get_n_splits(expanded_student_info)\n",
        "  split_data = []\n",
        "  for train_index, test_index in kf.split(expanded_student_info):\n",
        "    X_train, X_test = expanded_student_info.iloc[train_index].drop([\"final_result\"], axis=\"columns\"), expanded_student_info.iloc[test_index].drop([\"final_result\"], axis=\"columns\")\n",
        "    y_train, y_test = expanded_student_info.iloc[train_index].final_result, expanded_student_info.iloc[test_index].final_result\n",
        "    with warnings.catch_warnings():\n",
        "      warnings.filterwarnings(\"ignore\")\n",
        "      X_train, y_train = smote.fit_resample(X_train, y_train)\n",
        "    clf.fit(X_train, y_train)\n",
        "    y_pred = clf.predict(X_test)\n",
        "    #report = classification_report(y_test, y_pred) \n",
        "    with warnings.catch_warnings():\n",
        "      warnings.filterwarnings(\"ignore\")\n",
        "      cm = confusion_matrix(y_test, y_pred)\n",
        "      recall = np.diag(cm) / np.sum(cm, axis = 1)\n",
        "      recall = np.nan_to_num(recall)\n",
        "      recall = np.append(recall, [mean(recall)])\n",
        "      precision = np.diag(cm) / np.sum(cm, axis = 0)\n",
        "      precision = np.nan_to_num(precision)\n",
        "      precision = np.append(precision, [mean(precision)])\n",
        "      accuracy = accuracy_score(y_test, y_pred)\n",
        "      f1score = f1_score(y_test, y_pred,average=None)\n",
        "      f1score = np.nan_to_num(f1score)\n",
        "      f1score = np.append(f1score, [mean(f1score)])\n",
        "    split_data.append(np.concatenate((precision,recall, f1score, np.array([accuracy]))))\n",
        "  split_data = np.array(split_data)\n",
        "  mean_data = np.mean(split_data, axis=0)\n",
        "  return mean_data\n",
        "\n",
        "#Trains and tests a aset of classifier, storing the k-folded averaged results in a dataframe\n",
        "def train_test_classifiers(clfs, expanded_student_infos):\n",
        "  columns = ['classifier', 'parameters', 'time_prop','precision_0', 'precision_1','precision_avg', 'recall_0','recall_1', 'recall_avg','f1score_0','f1score_1','f1score_avg','accuracy']\n",
        "  results= pd.DataFrame( columns=columns)\n",
        "  time_props = [0.25, 0.5, 0.75, 1.0]\n",
        "  for clf in clfs:\n",
        "    for index in range(len(time_props)):\n",
        "      ClfResults = []\n",
        "      mean_data = train_and_split_validation(clf, expanded_student_infos[index], num_splits=5)\n",
        "      ClfResults.append(str(clf).split('(')[0])\n",
        "      ClfResults.append(str(clf).split('(',1)[1])\n",
        "      ClfResults.append(time_props[index])\n",
        "      ClfResults = ClfResults + list(mean_data)\n",
        "      results.loc[len(results.index)] = ClfResults\n",
        "  return results"
      ],
      "execution_count": 22,
      "outputs": []
    },
    {
      "cell_type": "markdown",
      "metadata": {
        "id": "Tqedbji3mqea"
      },
      "source": [
        "### Initial model evaluation"
      ]
    },
    {
      "cell_type": "code",
      "metadata": {
        "colab": {
          "base_uri": "https://localhost:8080/",
          "height": 669
        },
        "id": "euzEzuvMx9Bc",
        "outputId": "14bb8b71-5876-4cac-9414-d28a6c3ba390"
      },
      "source": [
        "clfs = [\n",
        "    RandomForestClassifier(random_state=0),\n",
        "    ExtraTreesClassifier(random_state=0), \n",
        "    GradientBoostingClassifier(random_state=0),\n",
        "    LogisticRegression(random_state=0, max_iter=2000), \n",
        "    SVC(random_state=0)\n",
        "]\n",
        "initial_results = train_test_classifiers(clfs, expanded_student_infos)\n",
        "initial_results"
      ],
      "execution_count": 23,
      "outputs": [
        {
          "output_type": "execute_result",
          "data": {
            "text/html": [
              "<div>\n",
              "<style scoped>\n",
              "    .dataframe tbody tr th:only-of-type {\n",
              "        vertical-align: middle;\n",
              "    }\n",
              "\n",
              "    .dataframe tbody tr th {\n",
              "        vertical-align: top;\n",
              "    }\n",
              "\n",
              "    .dataframe thead th {\n",
              "        text-align: right;\n",
              "    }\n",
              "</style>\n",
              "<table border=\"1\" class=\"dataframe\">\n",
              "  <thead>\n",
              "    <tr style=\"text-align: right;\">\n",
              "      <th></th>\n",
              "      <th>classifier</th>\n",
              "      <th>parameters</th>\n",
              "      <th>time_prop</th>\n",
              "      <th>precision_0</th>\n",
              "      <th>precision_1</th>\n",
              "      <th>precision_avg</th>\n",
              "      <th>recall_0</th>\n",
              "      <th>recall_1</th>\n",
              "      <th>recall_avg</th>\n",
              "      <th>f1score_0</th>\n",
              "      <th>f1score_1</th>\n",
              "      <th>f1score_avg</th>\n",
              "      <th>accuracy</th>\n",
              "    </tr>\n",
              "  </thead>\n",
              "  <tbody>\n",
              "    <tr>\n",
              "      <th>0</th>\n",
              "      <td>RandomForestClassifier</td>\n",
              "      <td>bootstrap=True, ccp_alpha=0.0, class_weight=No...</td>\n",
              "      <td>0.25</td>\n",
              "      <td>0.804252</td>\n",
              "      <td>0.716990</td>\n",
              "      <td>0.760621</td>\n",
              "      <td>0.816991</td>\n",
              "      <td>0.697782</td>\n",
              "      <td>0.757386</td>\n",
              "      <td>0.810548</td>\n",
              "      <td>0.707141</td>\n",
              "      <td>0.758845</td>\n",
              "      <td>0.771973</td>\n",
              "    </tr>\n",
              "    <tr>\n",
              "      <th>1</th>\n",
              "      <td>RandomForestClassifier</td>\n",
              "      <td>bootstrap=True, ccp_alpha=0.0, class_weight=No...</td>\n",
              "      <td>0.50</td>\n",
              "      <td>0.843994</td>\n",
              "      <td>0.707910</td>\n",
              "      <td>0.775952</td>\n",
              "      <td>0.785071</td>\n",
              "      <td>0.777646</td>\n",
              "      <td>0.781359</td>\n",
              "      <td>0.812922</td>\n",
              "      <td>0.740525</td>\n",
              "      <td>0.776724</td>\n",
              "      <td>0.785024</td>\n",
              "    </tr>\n",
              "    <tr>\n",
              "      <th>2</th>\n",
              "      <td>RandomForestClassifier</td>\n",
              "      <td>bootstrap=True, ccp_alpha=0.0, class_weight=No...</td>\n",
              "      <td>0.75</td>\n",
              "      <td>0.858922</td>\n",
              "      <td>0.699665</td>\n",
              "      <td>0.779294</td>\n",
              "      <td>0.768841</td>\n",
              "      <td>0.807779</td>\n",
              "      <td>0.788310</td>\n",
              "      <td>0.810999</td>\n",
              "      <td>0.749461</td>\n",
              "      <td>0.780230</td>\n",
              "      <td>0.786657</td>\n",
              "    </tr>\n",
              "    <tr>\n",
              "      <th>3</th>\n",
              "      <td>RandomForestClassifier</td>\n",
              "      <td>bootstrap=True, ccp_alpha=0.0, class_weight=No...</td>\n",
              "      <td>1.00</td>\n",
              "      <td>0.920619</td>\n",
              "      <td>0.730510</td>\n",
              "      <td>0.825564</td>\n",
              "      <td>0.779106</td>\n",
              "      <td>0.899209</td>\n",
              "      <td>0.839158</td>\n",
              "      <td>0.843670</td>\n",
              "      <td>0.805802</td>\n",
              "      <td>0.824736</td>\n",
              "      <td>0.828186</td>\n",
              "    </tr>\n",
              "    <tr>\n",
              "      <th>4</th>\n",
              "      <td>ExtraTreesClassifier</td>\n",
              "      <td>bootstrap=False, ccp_alpha=0.0, class_weight=N...</td>\n",
              "      <td>0.25</td>\n",
              "      <td>0.795498</td>\n",
              "      <td>0.733381</td>\n",
              "      <td>0.764440</td>\n",
              "      <td>0.833223</td>\n",
              "      <td>0.675087</td>\n",
              "      <td>0.754155</td>\n",
              "      <td>0.813763</td>\n",
              "      <td>0.702291</td>\n",
              "      <td>0.758027</td>\n",
              "      <td>0.773632</td>\n",
              "    </tr>\n",
              "    <tr>\n",
              "      <th>5</th>\n",
              "      <td>ExtraTreesClassifier</td>\n",
              "      <td>bootstrap=False, ccp_alpha=0.0, class_weight=N...</td>\n",
              "      <td>0.50</td>\n",
              "      <td>0.832448</td>\n",
              "      <td>0.696100</td>\n",
              "      <td>0.764274</td>\n",
              "      <td>0.779592</td>\n",
              "      <td>0.758798</td>\n",
              "      <td>0.769195</td>\n",
              "      <td>0.804799</td>\n",
              "      <td>0.725677</td>\n",
              "      <td>0.765238</td>\n",
              "      <td>0.774432</td>\n",
              "    </tr>\n",
              "    <tr>\n",
              "      <th>6</th>\n",
              "      <td>ExtraTreesClassifier</td>\n",
              "      <td>bootstrap=False, ccp_alpha=0.0, class_weight=N...</td>\n",
              "      <td>0.75</td>\n",
              "      <td>0.858122</td>\n",
              "      <td>0.704701</td>\n",
              "      <td>0.781412</td>\n",
              "      <td>0.775455</td>\n",
              "      <td>0.803294</td>\n",
              "      <td>0.789374</td>\n",
              "      <td>0.814181</td>\n",
              "      <td>0.750340</td>\n",
              "      <td>0.782260</td>\n",
              "      <td>0.789102</td>\n",
              "    </tr>\n",
              "    <tr>\n",
              "      <th>7</th>\n",
              "      <td>ExtraTreesClassifier</td>\n",
              "      <td>bootstrap=False, ccp_alpha=0.0, class_weight=N...</td>\n",
              "      <td>1.00</td>\n",
              "      <td>0.893858</td>\n",
              "      <td>0.719227</td>\n",
              "      <td>0.806542</td>\n",
              "      <td>0.773467</td>\n",
              "      <td>0.862187</td>\n",
              "      <td>0.817827</td>\n",
              "      <td>0.828993</td>\n",
              "      <td>0.784194</td>\n",
              "      <td>0.806594</td>\n",
              "      <td>0.811107</td>\n",
              "    </tr>\n",
              "    <tr>\n",
              "      <th>8</th>\n",
              "      <td>GradientBoostingClassifier</td>\n",
              "      <td>ccp_alpha=0.0, criterion='friedman_mse', init=...</td>\n",
              "      <td>0.25</td>\n",
              "      <td>0.809634</td>\n",
              "      <td>0.698539</td>\n",
              "      <td>0.754087</td>\n",
              "      <td>0.737483</td>\n",
              "      <td>0.730559</td>\n",
              "      <td>0.734021</td>\n",
              "      <td>0.742258</td>\n",
              "      <td>0.692627</td>\n",
              "      <td>0.717443</td>\n",
              "      <td>0.731163</td>\n",
              "    </tr>\n",
              "    <tr>\n",
              "      <th>9</th>\n",
              "      <td>GradientBoostingClassifier</td>\n",
              "      <td>ccp_alpha=0.0, criterion='friedman_mse', init=...</td>\n",
              "      <td>0.50</td>\n",
              "      <td>0.838702</td>\n",
              "      <td>0.694792</td>\n",
              "      <td>0.766747</td>\n",
              "      <td>0.770700</td>\n",
              "      <td>0.779184</td>\n",
              "      <td>0.774942</td>\n",
              "      <td>0.802966</td>\n",
              "      <td>0.734068</td>\n",
              "      <td>0.768517</td>\n",
              "      <td>0.775258</td>\n",
              "    </tr>\n",
              "    <tr>\n",
              "      <th>10</th>\n",
              "      <td>GradientBoostingClassifier</td>\n",
              "      <td>ccp_alpha=0.0, criterion='friedman_mse', init=...</td>\n",
              "      <td>0.75</td>\n",
              "      <td>0.862893</td>\n",
              "      <td>0.706957</td>\n",
              "      <td>0.784925</td>\n",
              "      <td>0.775272</td>\n",
              "      <td>0.816696</td>\n",
              "      <td>0.795984</td>\n",
              "      <td>0.816483</td>\n",
              "      <td>0.757352</td>\n",
              "      <td>0.786917</td>\n",
              "      <td>0.792361</td>\n",
              "    </tr>\n",
              "    <tr>\n",
              "      <th>11</th>\n",
              "      <td>GradientBoostingClassifier</td>\n",
              "      <td>ccp_alpha=0.0, criterion='friedman_mse', init=...</td>\n",
              "      <td>1.00</td>\n",
              "      <td>0.891491</td>\n",
              "      <td>0.724745</td>\n",
              "      <td>0.808118</td>\n",
              "      <td>0.782605</td>\n",
              "      <td>0.860477</td>\n",
              "      <td>0.821541</td>\n",
              "      <td>0.832506</td>\n",
              "      <td>0.785234</td>\n",
              "      <td>0.808870</td>\n",
              "      <td>0.812723</td>\n",
              "    </tr>\n",
              "    <tr>\n",
              "      <th>12</th>\n",
              "      <td>LogisticRegression</td>\n",
              "      <td>C=1.0, class_weight=None, dual=False, fit_inte...</td>\n",
              "      <td>0.25</td>\n",
              "      <td>0.801466</td>\n",
              "      <td>0.667399</td>\n",
              "      <td>0.734433</td>\n",
              "      <td>0.721152</td>\n",
              "      <td>0.730501</td>\n",
              "      <td>0.725826</td>\n",
              "      <td>0.744124</td>\n",
              "      <td>0.683702</td>\n",
              "      <td>0.713913</td>\n",
              "      <td>0.723873</td>\n",
              "    </tr>\n",
              "    <tr>\n",
              "      <th>13</th>\n",
              "      <td>LogisticRegression</td>\n",
              "      <td>C=1.0, class_weight=None, dual=False, fit_inte...</td>\n",
              "      <td>0.50</td>\n",
              "      <td>0.844194</td>\n",
              "      <td>0.677615</td>\n",
              "      <td>0.760905</td>\n",
              "      <td>0.724943</td>\n",
              "      <td>0.796622</td>\n",
              "      <td>0.760783</td>\n",
              "      <td>0.772471</td>\n",
              "      <td>0.724675</td>\n",
              "      <td>0.748573</td>\n",
              "      <td>0.754823</td>\n",
              "    </tr>\n",
              "    <tr>\n",
              "      <th>14</th>\n",
              "      <td>LogisticRegression</td>\n",
              "      <td>C=1.0, class_weight=None, dual=False, fit_inte...</td>\n",
              "      <td>0.75</td>\n",
              "      <td>0.869832</td>\n",
              "      <td>0.694073</td>\n",
              "      <td>0.781953</td>\n",
              "      <td>0.741660</td>\n",
              "      <td>0.825663</td>\n",
              "      <td>0.783661</td>\n",
              "      <td>0.794507</td>\n",
              "      <td>0.747517</td>\n",
              "      <td>0.771012</td>\n",
              "      <td>0.776838</td>\n",
              "    </tr>\n",
              "    <tr>\n",
              "      <th>15</th>\n",
              "      <td>LogisticRegression</td>\n",
              "      <td>C=1.0, class_weight=None, dual=False, fit_inte...</td>\n",
              "      <td>1.00</td>\n",
              "      <td>0.913616</td>\n",
              "      <td>0.696541</td>\n",
              "      <td>0.805079</td>\n",
              "      <td>0.737110</td>\n",
              "      <td>0.883002</td>\n",
              "      <td>0.810056</td>\n",
              "      <td>0.812064</td>\n",
              "      <td>0.774756</td>\n",
              "      <td>0.793410</td>\n",
              "      <td>0.798009</td>\n",
              "    </tr>\n",
              "    <tr>\n",
              "      <th>16</th>\n",
              "      <td>SVC</td>\n",
              "      <td>C=1.0, break_ties=False, cache_size=200, class...</td>\n",
              "      <td>0.25</td>\n",
              "      <td>0.491302</td>\n",
              "      <td>0.090244</td>\n",
              "      <td>0.290773</td>\n",
              "      <td>0.800000</td>\n",
              "      <td>0.200000</td>\n",
              "      <td>0.500000</td>\n",
              "      <td>0.608171</td>\n",
              "      <td>0.124370</td>\n",
              "      <td>0.366271</td>\n",
              "      <td>0.581546</td>\n",
              "    </tr>\n",
              "    <tr>\n",
              "      <th>17</th>\n",
              "      <td>SVC</td>\n",
              "      <td>C=1.0, break_ties=False, cache_size=200, class...</td>\n",
              "      <td>0.50</td>\n",
              "      <td>0.491302</td>\n",
              "      <td>0.090244</td>\n",
              "      <td>0.290773</td>\n",
              "      <td>0.800000</td>\n",
              "      <td>0.200000</td>\n",
              "      <td>0.500000</td>\n",
              "      <td>0.608171</td>\n",
              "      <td>0.124370</td>\n",
              "      <td>0.366271</td>\n",
              "      <td>0.581546</td>\n",
              "    </tr>\n",
              "    <tr>\n",
              "      <th>18</th>\n",
              "      <td>SVC</td>\n",
              "      <td>C=1.0, break_ties=False, cache_size=200, class...</td>\n",
              "      <td>0.75</td>\n",
              "      <td>0.491302</td>\n",
              "      <td>0.090244</td>\n",
              "      <td>0.290773</td>\n",
              "      <td>0.800000</td>\n",
              "      <td>0.200000</td>\n",
              "      <td>0.500000</td>\n",
              "      <td>0.608171</td>\n",
              "      <td>0.124370</td>\n",
              "      <td>0.366271</td>\n",
              "      <td>0.581546</td>\n",
              "    </tr>\n",
              "    <tr>\n",
              "      <th>19</th>\n",
              "      <td>SVC</td>\n",
              "      <td>C=1.0, break_ties=False, cache_size=200, class...</td>\n",
              "      <td>1.00</td>\n",
              "      <td>0.491302</td>\n",
              "      <td>0.090244</td>\n",
              "      <td>0.290773</td>\n",
              "      <td>0.800000</td>\n",
              "      <td>0.200000</td>\n",
              "      <td>0.500000</td>\n",
              "      <td>0.608171</td>\n",
              "      <td>0.124370</td>\n",
              "      <td>0.366271</td>\n",
              "      <td>0.581546</td>\n",
              "    </tr>\n",
              "  </tbody>\n",
              "</table>\n",
              "</div>"
            ],
            "text/plain": [
              "                    classifier  ...  accuracy\n",
              "0       RandomForestClassifier  ...  0.771973\n",
              "1       RandomForestClassifier  ...  0.785024\n",
              "2       RandomForestClassifier  ...  0.786657\n",
              "3       RandomForestClassifier  ...  0.828186\n",
              "4         ExtraTreesClassifier  ...  0.773632\n",
              "5         ExtraTreesClassifier  ...  0.774432\n",
              "6         ExtraTreesClassifier  ...  0.789102\n",
              "7         ExtraTreesClassifier  ...  0.811107\n",
              "8   GradientBoostingClassifier  ...  0.731163\n",
              "9   GradientBoostingClassifier  ...  0.775258\n",
              "10  GradientBoostingClassifier  ...  0.792361\n",
              "11  GradientBoostingClassifier  ...  0.812723\n",
              "12          LogisticRegression  ...  0.723873\n",
              "13          LogisticRegression  ...  0.754823\n",
              "14          LogisticRegression  ...  0.776838\n",
              "15          LogisticRegression  ...  0.798009\n",
              "16                         SVC  ...  0.581546\n",
              "17                         SVC  ...  0.581546\n",
              "18                         SVC  ...  0.581546\n",
              "19                         SVC  ...  0.581546\n",
              "\n",
              "[20 rows x 13 columns]"
            ]
          },
          "metadata": {
            "tags": []
          },
          "execution_count": 23
        }
      ]
    },
    {
      "cell_type": "code",
      "metadata": {
        "colab": {
          "base_uri": "https://localhost:8080/",
          "height": 285
        },
        "id": "m97WJETQowqe",
        "outputId": "fbc41bbe-323d-4ff7-9c9c-99f8e03c3907"
      },
      "source": [
        "sns.set()\n",
        "ax = sns.lineplot(data=initial_results[initial_results.classifier != \"SVC\"], x=\"time_prop\", y=\"f1score_avg\", hue=\"classifier\", markers=True)\n",
        "ax.xaxis.set_major_locator(ticker.MultipleLocator(0.25))\n",
        "ax.xaxis.set_major_formatter(ticker.ScalarFormatter())"
      ],
      "execution_count": 29,
      "outputs": [
        {
          "output_type": "display_data",
          "data": {
            "image/png": "[encoded data removed]",
            "text/plain": [
              "<Figure size 432x288 with 1 Axes>"
            ]
          },
          "metadata": {
            "tags": []
          }
        }
      ]
    },
    {
      "cell_type": "markdown",
      "metadata": {
        "id": "fNDpi5tBrQEd"
      },
      "source": [
        "A visualisation of classifier performance with average F1 score against the proportion of course data used. We omit SVC due to the large perfromance gap. We can see that Random Forest outperfoms or performs on par with models at every point except for 75% and so we select this model to fine-tune "
      ]
    },
    {
      "cell_type": "markdown",
      "metadata": {
        "id": "782icdDcnC5C"
      },
      "source": [
        "### Experimental fine-tuning of Random Forest"
      ]
    },
    {
      "cell_type": "code",
      "metadata": {
        "colab": {
          "base_uri": "https://localhost:8080/",
          "height": 669
        },
        "id": "lXrR8TcFWJs1",
        "outputId": "027c32f9-fba8-454d-904a-edbe6a5d7212"
      },
      "source": [
        "clfs = [\n",
        "    RandomForestClassifier(random_state=0, n_estimators=500),\n",
        "    RandomForestClassifier(random_state=0, n_estimators=1000),\n",
        "    RandomForestClassifier(random_state=0, criterion=\"entropy\"), \n",
        "    RandomForestClassifier(random_state=0, max_features=\"log2\"), \n",
        "    RandomForestClassifier(random_state=0, n_estimators=1000, criterion=\"entropy\"),\n",
        "]\n",
        "mod_results = train_test_classifiers(clfs, expanded_student_infos)\n",
        "mod_results"
      ],
      "execution_count": 24,
      "outputs": [
        {
          "output_type": "execute_result",
          "data": {
            "text/html": [
              "<div>\n",
              "<style scoped>\n",
              "    .dataframe tbody tr th:only-of-type {\n",
              "        vertical-align: middle;\n",
              "    }\n",
              "\n",
              "    .dataframe tbody tr th {\n",
              "        vertical-align: top;\n",
              "    }\n",
              "\n",
              "    .dataframe thead th {\n",
              "        text-align: right;\n",
              "    }\n",
              "</style>\n",
              "<table border=\"1\" class=\"dataframe\">\n",
              "  <thead>\n",
              "    <tr style=\"text-align: right;\">\n",
              "      <th></th>\n",
              "      <th>classifier</th>\n",
              "      <th>parameters</th>\n",
              "      <th>time_prop</th>\n",
              "      <th>precision_0</th>\n",
              "      <th>precision_1</th>\n",
              "      <th>precision_avg</th>\n",
              "      <th>recall_0</th>\n",
              "      <th>recall_1</th>\n",
              "      <th>recall_avg</th>\n",
              "      <th>f1score_0</th>\n",
              "      <th>f1score_1</th>\n",
              "      <th>f1score_avg</th>\n",
              "      <th>accuracy</th>\n",
              "    </tr>\n",
              "  </thead>\n",
              "  <tbody>\n",
              "    <tr>\n",
              "      <th>0</th>\n",
              "      <td>RandomForestClassifier</td>\n",
              "      <td>bootstrap=True, ccp_alpha=0.0, class_weight=No...</td>\n",
              "      <td>0.25</td>\n",
              "      <td>0.803917</td>\n",
              "      <td>0.725260</td>\n",
              "      <td>0.764588</td>\n",
              "      <td>0.820971</td>\n",
              "      <td>0.695379</td>\n",
              "      <td>0.758175</td>\n",
              "      <td>0.812154</td>\n",
              "      <td>0.709277</td>\n",
              "      <td>0.760716</td>\n",
              "      <td>0.774442</td>\n",
              "    </tr>\n",
              "    <tr>\n",
              "      <th>1</th>\n",
              "      <td>RandomForestClassifier</td>\n",
              "      <td>bootstrap=True, ccp_alpha=0.0, class_weight=No...</td>\n",
              "      <td>0.50</td>\n",
              "      <td>0.846855</td>\n",
              "      <td>0.700530</td>\n",
              "      <td>0.773692</td>\n",
              "      <td>0.777394</td>\n",
              "      <td>0.784065</td>\n",
              "      <td>0.780730</td>\n",
              "      <td>0.810149</td>\n",
              "      <td>0.739391</td>\n",
              "      <td>0.774770</td>\n",
              "      <td>0.782572</td>\n",
              "    </tr>\n",
              "    <tr>\n",
              "      <th>2</th>\n",
              "      <td>RandomForestClassifier</td>\n",
              "      <td>bootstrap=True, ccp_alpha=0.0, class_weight=No...</td>\n",
              "      <td>0.75</td>\n",
              "      <td>0.866191</td>\n",
              "      <td>0.697698</td>\n",
              "      <td>0.781945</td>\n",
              "      <td>0.763424</td>\n",
              "      <td>0.820130</td>\n",
              "      <td>0.791777</td>\n",
              "      <td>0.811164</td>\n",
              "      <td>0.753623</td>\n",
              "      <td>0.782393</td>\n",
              "      <td>0.788283</td>\n",
              "    </tr>\n",
              "    <tr>\n",
              "      <th>3</th>\n",
              "      <td>RandomForestClassifier</td>\n",
              "      <td>bootstrap=True, ccp_alpha=0.0, class_weight=No...</td>\n",
              "      <td>1.00</td>\n",
              "      <td>0.927066</td>\n",
              "      <td>0.717876</td>\n",
              "      <td>0.822471</td>\n",
              "      <td>0.763025</td>\n",
              "      <td>0.908667</td>\n",
              "      <td>0.835846</td>\n",
              "      <td>0.836799</td>\n",
              "      <td>0.801788</td>\n",
              "      <td>0.819294</td>\n",
              "      <td>0.822472</td>\n",
              "    </tr>\n",
              "    <tr>\n",
              "      <th>4</th>\n",
              "      <td>RandomForestClassifier</td>\n",
              "      <td>bootstrap=True, ccp_alpha=0.0, class_weight=No...</td>\n",
              "      <td>0.25</td>\n",
              "      <td>0.805890</td>\n",
              "      <td>0.726486</td>\n",
              "      <td>0.766188</td>\n",
              "      <td>0.821016</td>\n",
              "      <td>0.699789</td>\n",
              "      <td>0.760403</td>\n",
              "      <td>0.813214</td>\n",
              "      <td>0.712292</td>\n",
              "      <td>0.762753</td>\n",
              "      <td>0.776068</td>\n",
              "    </tr>\n",
              "    <tr>\n",
              "      <th>5</th>\n",
              "      <td>RandomForestClassifier</td>\n",
              "      <td>bootstrap=True, ccp_alpha=0.0, class_weight=No...</td>\n",
              "      <td>0.50</td>\n",
              "      <td>0.847545</td>\n",
              "      <td>0.704573</td>\n",
              "      <td>0.776059</td>\n",
              "      <td>0.781506</td>\n",
              "      <td>0.784312</td>\n",
              "      <td>0.782909</td>\n",
              "      <td>0.812660</td>\n",
              "      <td>0.741711</td>\n",
              "      <td>0.777186</td>\n",
              "      <td>0.785014</td>\n",
              "    </tr>\n",
              "    <tr>\n",
              "      <th>6</th>\n",
              "      <td>RandomForestClassifier</td>\n",
              "      <td>bootstrap=True, ccp_alpha=0.0, class_weight=No...</td>\n",
              "      <td>0.75</td>\n",
              "      <td>0.866943</td>\n",
              "      <td>0.694082</td>\n",
              "      <td>0.780512</td>\n",
              "      <td>0.759644</td>\n",
              "      <td>0.821685</td>\n",
              "      <td>0.790664</td>\n",
              "      <td>0.809464</td>\n",
              "      <td>0.752310</td>\n",
              "      <td>0.780887</td>\n",
              "      <td>0.786647</td>\n",
              "    </tr>\n",
              "    <tr>\n",
              "      <th>7</th>\n",
              "      <td>RandomForestClassifier</td>\n",
              "      <td>bootstrap=True, ccp_alpha=0.0, class_weight=No...</td>\n",
              "      <td>1.00</td>\n",
              "      <td>0.927871</td>\n",
              "      <td>0.715325</td>\n",
              "      <td>0.821598</td>\n",
              "      <td>0.758600</td>\n",
              "      <td>0.910996</td>\n",
              "      <td>0.834798</td>\n",
              "      <td>0.834425</td>\n",
              "      <td>0.801136</td>\n",
              "      <td>0.817781</td>\n",
              "      <td>0.820850</td>\n",
              "    </tr>\n",
              "    <tr>\n",
              "      <th>8</th>\n",
              "      <td>RandomForestClassifier</td>\n",
              "      <td>bootstrap=True, ccp_alpha=0.0, class_weight=No...</td>\n",
              "      <td>0.25</td>\n",
              "      <td>0.801886</td>\n",
              "      <td>0.738173</td>\n",
              "      <td>0.770030</td>\n",
              "      <td>0.836510</td>\n",
              "      <td>0.684972</td>\n",
              "      <td>0.760741</td>\n",
              "      <td>0.818674</td>\n",
              "      <td>0.709893</td>\n",
              "      <td>0.764283</td>\n",
              "      <td>0.779316</td>\n",
              "    </tr>\n",
              "    <tr>\n",
              "      <th>9</th>\n",
              "      <td>RandomForestClassifier</td>\n",
              "      <td>bootstrap=True, ccp_alpha=0.0, class_weight=No...</td>\n",
              "      <td>0.50</td>\n",
              "      <td>0.841544</td>\n",
              "      <td>0.696298</td>\n",
              "      <td>0.768921</td>\n",
              "      <td>0.773647</td>\n",
              "      <td>0.773912</td>\n",
              "      <td>0.773780</td>\n",
              "      <td>0.805459</td>\n",
              "      <td>0.732382</td>\n",
              "      <td>0.768920</td>\n",
              "      <td>0.777684</td>\n",
              "    </tr>\n",
              "    <tr>\n",
              "      <th>10</th>\n",
              "      <td>RandomForestClassifier</td>\n",
              "      <td>bootstrap=True, ccp_alpha=0.0, class_weight=No...</td>\n",
              "      <td>0.75</td>\n",
              "      <td>0.867048</td>\n",
              "      <td>0.696977</td>\n",
              "      <td>0.782012</td>\n",
              "      <td>0.761848</td>\n",
              "      <td>0.821158</td>\n",
              "      <td>0.791503</td>\n",
              "      <td>0.810765</td>\n",
              "      <td>0.753943</td>\n",
              "      <td>0.782354</td>\n",
              "      <td>0.788276</td>\n",
              "    </tr>\n",
              "    <tr>\n",
              "      <th>11</th>\n",
              "      <td>RandomForestClassifier</td>\n",
              "      <td>bootstrap=True, ccp_alpha=0.0, class_weight=No...</td>\n",
              "      <td>1.00</td>\n",
              "      <td>0.936972</td>\n",
              "      <td>0.725713</td>\n",
              "      <td>0.831343</td>\n",
              "      <td>0.769425</td>\n",
              "      <td>0.916621</td>\n",
              "      <td>0.843023</td>\n",
              "      <td>0.844317</td>\n",
              "      <td>0.809735</td>\n",
              "      <td>0.827026</td>\n",
              "      <td>0.830606</td>\n",
              "    </tr>\n",
              "    <tr>\n",
              "      <th>12</th>\n",
              "      <td>RandomForestClassifier</td>\n",
              "      <td>bootstrap=True, ccp_alpha=0.0, class_weight=No...</td>\n",
              "      <td>0.25</td>\n",
              "      <td>0.804252</td>\n",
              "      <td>0.716990</td>\n",
              "      <td>0.760621</td>\n",
              "      <td>0.816991</td>\n",
              "      <td>0.697782</td>\n",
              "      <td>0.757386</td>\n",
              "      <td>0.810548</td>\n",
              "      <td>0.707141</td>\n",
              "      <td>0.758845</td>\n",
              "      <td>0.771973</td>\n",
              "    </tr>\n",
              "    <tr>\n",
              "      <th>13</th>\n",
              "      <td>RandomForestClassifier</td>\n",
              "      <td>bootstrap=True, ccp_alpha=0.0, class_weight=No...</td>\n",
              "      <td>0.50</td>\n",
              "      <td>0.843994</td>\n",
              "      <td>0.707910</td>\n",
              "      <td>0.775952</td>\n",
              "      <td>0.785071</td>\n",
              "      <td>0.777646</td>\n",
              "      <td>0.781359</td>\n",
              "      <td>0.812922</td>\n",
              "      <td>0.740525</td>\n",
              "      <td>0.776724</td>\n",
              "      <td>0.785024</td>\n",
              "    </tr>\n",
              "    <tr>\n",
              "      <th>14</th>\n",
              "      <td>RandomForestClassifier</td>\n",
              "      <td>bootstrap=True, ccp_alpha=0.0, class_weight=No...</td>\n",
              "      <td>0.75</td>\n",
              "      <td>0.858922</td>\n",
              "      <td>0.699665</td>\n",
              "      <td>0.779294</td>\n",
              "      <td>0.768841</td>\n",
              "      <td>0.807779</td>\n",
              "      <td>0.788310</td>\n",
              "      <td>0.810999</td>\n",
              "      <td>0.749461</td>\n",
              "      <td>0.780230</td>\n",
              "      <td>0.786657</td>\n",
              "    </tr>\n",
              "    <tr>\n",
              "      <th>15</th>\n",
              "      <td>RandomForestClassifier</td>\n",
              "      <td>bootstrap=True, ccp_alpha=0.0, class_weight=No...</td>\n",
              "      <td>1.00</td>\n",
              "      <td>0.920619</td>\n",
              "      <td>0.730510</td>\n",
              "      <td>0.825564</td>\n",
              "      <td>0.779106</td>\n",
              "      <td>0.899209</td>\n",
              "      <td>0.839158</td>\n",
              "      <td>0.843670</td>\n",
              "      <td>0.805802</td>\n",
              "      <td>0.824736</td>\n",
              "      <td>0.828186</td>\n",
              "    </tr>\n",
              "    <tr>\n",
              "      <th>16</th>\n",
              "      <td>RandomForestClassifier</td>\n",
              "      <td>bootstrap=True, ccp_alpha=0.0, class_weight=No...</td>\n",
              "      <td>0.25</td>\n",
              "      <td>0.808040</td>\n",
              "      <td>0.730375</td>\n",
              "      <td>0.769208</td>\n",
              "      <td>0.825659</td>\n",
              "      <td>0.701628</td>\n",
              "      <td>0.763644</td>\n",
              "      <td>0.816637</td>\n",
              "      <td>0.715280</td>\n",
              "      <td>0.765959</td>\n",
              "      <td>0.779316</td>\n",
              "    </tr>\n",
              "    <tr>\n",
              "      <th>17</th>\n",
              "      <td>RandomForestClassifier</td>\n",
              "      <td>bootstrap=True, ccp_alpha=0.0, class_weight=No...</td>\n",
              "      <td>0.50</td>\n",
              "      <td>0.855786</td>\n",
              "      <td>0.705094</td>\n",
              "      <td>0.780440</td>\n",
              "      <td>0.776517</td>\n",
              "      <td>0.797378</td>\n",
              "      <td>0.786948</td>\n",
              "      <td>0.813637</td>\n",
              "      <td>0.747911</td>\n",
              "      <td>0.780774</td>\n",
              "      <td>0.788276</td>\n",
              "    </tr>\n",
              "    <tr>\n",
              "      <th>18</th>\n",
              "      <td>RandomForestClassifier</td>\n",
              "      <td>bootstrap=True, ccp_alpha=0.0, class_weight=No...</td>\n",
              "      <td>0.75</td>\n",
              "      <td>0.868532</td>\n",
              "      <td>0.693459</td>\n",
              "      <td>0.780996</td>\n",
              "      <td>0.756501</td>\n",
              "      <td>0.825920</td>\n",
              "      <td>0.791211</td>\n",
              "      <td>0.808444</td>\n",
              "      <td>0.753897</td>\n",
              "      <td>0.781170</td>\n",
              "      <td>0.786653</td>\n",
              "    </tr>\n",
              "    <tr>\n",
              "      <th>19</th>\n",
              "      <td>RandomForestClassifier</td>\n",
              "      <td>bootstrap=True, ccp_alpha=0.0, class_weight=No...</td>\n",
              "      <td>1.00</td>\n",
              "      <td>0.932603</td>\n",
              "      <td>0.710291</td>\n",
              "      <td>0.821447</td>\n",
              "      <td>0.750074</td>\n",
              "      <td>0.916649</td>\n",
              "      <td>0.833361</td>\n",
              "      <td>0.830708</td>\n",
              "      <td>0.799919</td>\n",
              "      <td>0.815313</td>\n",
              "      <td>0.818407</td>\n",
              "    </tr>\n",
              "  </tbody>\n",
              "</table>\n",
              "</div>"
            ],
            "text/plain": [
              "                classifier  ...  accuracy\n",
              "0   RandomForestClassifier  ...  0.774442\n",
              "1   RandomForestClassifier  ...  0.782572\n",
              "2   RandomForestClassifier  ...  0.788283\n",
              "3   RandomForestClassifier  ...  0.822472\n",
              "4   RandomForestClassifier  ...  0.776068\n",
              "5   RandomForestClassifier  ...  0.785014\n",
              "6   RandomForestClassifier  ...  0.786647\n",
              "7   RandomForestClassifier  ...  0.820850\n",
              "8   RandomForestClassifier  ...  0.779316\n",
              "9   RandomForestClassifier  ...  0.777684\n",
              "10  RandomForestClassifier  ...  0.788276\n",
              "11  RandomForestClassifier  ...  0.830606\n",
              "12  RandomForestClassifier  ...  0.771973\n",
              "13  RandomForestClassifier  ...  0.785024\n",
              "14  RandomForestClassifier  ...  0.786657\n",
              "15  RandomForestClassifier  ...  0.828186\n",
              "16  RandomForestClassifier  ...  0.779316\n",
              "17  RandomForestClassifier  ...  0.788276\n",
              "18  RandomForestClassifier  ...  0.786653\n",
              "19  RandomForestClassifier  ...  0.818407\n",
              "\n",
              "[20 rows x 13 columns]"
            ]
          },
          "metadata": {
            "tags": []
          },
          "execution_count": 24
        }
      ]
    },
    {
      "cell_type": "code",
      "metadata": {
        "colab": {
          "base_uri": "https://localhost:8080/",
          "height": 288
        },
        "id": "MwpTyzhSroDi",
        "outputId": "f701fbad-2eb4-440c-d80f-adf115e1cbef"
      },
      "source": [
        "line_names = [\"500_estimators\"] * 4 + [\"1000_estimators\"] * 4 + [\"entropy\"] * 4 + [\"log2\"] *4 + [\"1000_estimators+entropy\"] * 4\n",
        "mod_results = mod_results.assign(line_names = line_names)\n",
        "ax = sns.lineplot(data=mod_results, x=\"time_prop\", y=\"f1score_avg\", hue=\"line_names\", markers=True)\n",
        "ax.xaxis.set_major_locator(ticker.MultipleLocator(0.25))\n",
        "ax.xaxis.set_major_formatter(ticker.ScalarFormatter())"
      ],
      "execution_count": 32,
      "outputs": [
        {
          "output_type": "display_data",
          "data": {
            "image/png": "[encoded data removed]",
            "text/plain": [
              "<Figure size 432x288 with 1 Axes>"
            ]
          },
          "metadata": {
            "tags": []
          }
        }
      ]
    },
    {
      "cell_type": "markdown",
      "metadata": {
        "id": "ooF09m4Os9lE"
      },
      "source": [
        "While performance is mixed acorss the modification, 1000 estimators and entropy as the criterion leads to improved performance for the first two proportions and the earlier predictions are the most valbale within this task, and so we select these modification."
      ]
    },
    {
      "cell_type": "markdown",
      "metadata": {
        "id": "xcfOheQ-nIBR"
      },
      "source": [
        "### Selected Random Forest Configuration"
      ]
    },
    {
      "cell_type": "code",
      "metadata": {
        "colab": {
          "base_uri": "https://localhost:8080/",
          "height": 173
        },
        "id": "ZTtlNJtDr1Lb",
        "outputId": "a7a5f37a-299f-4ac1-e0c4-304b31ae8922"
      },
      "source": [
        "clfs = [\n",
        "    RandomForestClassifier(random_state=0, n_estimators=1000, criterion=\"entropy\"),\n",
        "]\n",
        "rf_final_results = train_test_classifiers(clfs, expanded_student_infos)\n",
        "rf_final_results"
      ],
      "execution_count": null,
      "outputs": [
        {
          "output_type": "execute_result",
          "data": {
            "text/html": [
              "<div>\n",
              "<style scoped>\n",
              "    .dataframe tbody tr th:only-of-type {\n",
              "        vertical-align: middle;\n",
              "    }\n",
              "\n",
              "    .dataframe tbody tr th {\n",
              "        vertical-align: top;\n",
              "    }\n",
              "\n",
              "    .dataframe thead th {\n",
              "        text-align: right;\n",
              "    }\n",
              "</style>\n",
              "<table border=\"1\" class=\"dataframe\">\n",
              "  <thead>\n",
              "    <tr style=\"text-align: right;\">\n",
              "      <th></th>\n",
              "      <th>classifier</th>\n",
              "      <th>parameters</th>\n",
              "      <th>time_prop</th>\n",
              "      <th>precision_0</th>\n",
              "      <th>precision_1</th>\n",
              "      <th>precision_avg</th>\n",
              "      <th>recall_0</th>\n",
              "      <th>recall_1</th>\n",
              "      <th>recall_avg</th>\n",
              "      <th>f1score_0</th>\n",
              "      <th>f1score_1</th>\n",
              "      <th>f1score_avg</th>\n",
              "      <th>accuracy</th>\n",
              "    </tr>\n",
              "  </thead>\n",
              "  <tbody>\n",
              "    <tr>\n",
              "      <th>0</th>\n",
              "      <td>RandomForestClassifier</td>\n",
              "      <td>bootstrap=True, ccp_alpha=0.0, class_weight=No...</td>\n",
              "      <td>0.25</td>\n",
              "      <td>0.808040</td>\n",
              "      <td>0.730375</td>\n",
              "      <td>0.769208</td>\n",
              "      <td>0.825659</td>\n",
              "      <td>0.701628</td>\n",
              "      <td>0.763644</td>\n",
              "      <td>0.816637</td>\n",
              "      <td>0.715280</td>\n",
              "      <td>0.765959</td>\n",
              "      <td>0.779316</td>\n",
              "    </tr>\n",
              "    <tr>\n",
              "      <th>1</th>\n",
              "      <td>RandomForestClassifier</td>\n",
              "      <td>bootstrap=True, ccp_alpha=0.0, class_weight=No...</td>\n",
              "      <td>0.50</td>\n",
              "      <td>0.855786</td>\n",
              "      <td>0.705094</td>\n",
              "      <td>0.780440</td>\n",
              "      <td>0.776517</td>\n",
              "      <td>0.797378</td>\n",
              "      <td>0.786948</td>\n",
              "      <td>0.813637</td>\n",
              "      <td>0.747911</td>\n",
              "      <td>0.780774</td>\n",
              "      <td>0.788276</td>\n",
              "    </tr>\n",
              "    <tr>\n",
              "      <th>2</th>\n",
              "      <td>RandomForestClassifier</td>\n",
              "      <td>bootstrap=True, ccp_alpha=0.0, class_weight=No...</td>\n",
              "      <td>0.75</td>\n",
              "      <td>0.868532</td>\n",
              "      <td>0.693459</td>\n",
              "      <td>0.780996</td>\n",
              "      <td>0.756501</td>\n",
              "      <td>0.825920</td>\n",
              "      <td>0.791211</td>\n",
              "      <td>0.808444</td>\n",
              "      <td>0.753897</td>\n",
              "      <td>0.781170</td>\n",
              "      <td>0.786653</td>\n",
              "    </tr>\n",
              "    <tr>\n",
              "      <th>3</th>\n",
              "      <td>RandomForestClassifier</td>\n",
              "      <td>bootstrap=True, ccp_alpha=0.0, class_weight=No...</td>\n",
              "      <td>1.00</td>\n",
              "      <td>0.932603</td>\n",
              "      <td>0.710291</td>\n",
              "      <td>0.821447</td>\n",
              "      <td>0.750074</td>\n",
              "      <td>0.916649</td>\n",
              "      <td>0.833361</td>\n",
              "      <td>0.830708</td>\n",
              "      <td>0.799919</td>\n",
              "      <td>0.815313</td>\n",
              "      <td>0.818407</td>\n",
              "    </tr>\n",
              "  </tbody>\n",
              "</table>\n",
              "</div>"
            ],
            "text/plain": [
              "               classifier  ...  accuracy\n",
              "0  RandomForestClassifier  ...  0.779316\n",
              "1  RandomForestClassifier  ...  0.788276\n",
              "2  RandomForestClassifier  ...  0.786653\n",
              "3  RandomForestClassifier  ...  0.818407\n",
              "\n",
              "[4 rows x 13 columns]"
            ]
          },
          "metadata": {
            "tags": []
          },
          "execution_count": 230
        }
      ]
    },
    {
      "cell_type": "markdown",
      "metadata": {
        "id": "BemCrAJKnNsr"
      },
      "source": [
        ""
      ]
    },
    {
      "cell_type": "code",
      "metadata": {
        "colab": {
          "base_uri": "https://localhost:8080/",
          "height": 297
        },
        "id": "aFyy5JOr2vJm",
        "outputId": "a04257dc-71f5-4edc-dbea-fea99a1b7475"
      },
      "source": [
        "clfs = [\n",
        "        VotingClassifier(estimators=[\n",
        "                                     ('et', ExtraTreesClassifier(random_state=0),), \n",
        "                                     ('rf', RandomForestClassifier(random_state=0, n_estimators=1000, criterion=\"entropy\")), \n",
        "                                     ('gb', GradientBoostingClassifier(random_state=0))], voting='hard'),\n",
        "        VotingClassifier(estimators=[\n",
        "                                     ('et', ExtraTreesClassifier(random_state=0),), \n",
        "                                     ('rf', RandomForestClassifier(random_state=0, n_estimators=1000, criterion=\"entropy\")), \n",
        "                                     ('gb', GradientBoostingClassifier(random_state=0))], voting='soft')\n",
        "]\n",
        "ensemble_results = train_test_classifiers(clfs, expanded_student_infos)\n",
        "ensemble_results\n",
        "\n"
      ],
      "execution_count": null,
      "outputs": [
        {
          "output_type": "execute_result",
          "data": {
            "text/html": [
              "<div>\n",
              "<style scoped>\n",
              "    .dataframe tbody tr th:only-of-type {\n",
              "        vertical-align: middle;\n",
              "    }\n",
              "\n",
              "    .dataframe tbody tr th {\n",
              "        vertical-align: top;\n",
              "    }\n",
              "\n",
              "    .dataframe thead th {\n",
              "        text-align: right;\n",
              "    }\n",
              "</style>\n",
              "<table border=\"1\" class=\"dataframe\">\n",
              "  <thead>\n",
              "    <tr style=\"text-align: right;\">\n",
              "      <th></th>\n",
              "      <th>classifier</th>\n",
              "      <th>parameters</th>\n",
              "      <th>time_prop</th>\n",
              "      <th>precision_0</th>\n",
              "      <th>precision_1</th>\n",
              "      <th>precision_avg</th>\n",
              "      <th>recall_0</th>\n",
              "      <th>recall_1</th>\n",
              "      <th>recall_avg</th>\n",
              "      <th>f1score_0</th>\n",
              "      <th>f1score_1</th>\n",
              "      <th>f1score_avg</th>\n",
              "      <th>accuracy</th>\n",
              "    </tr>\n",
              "  </thead>\n",
              "  <tbody>\n",
              "    <tr>\n",
              "      <th>0</th>\n",
              "      <td>VotingClassifier</td>\n",
              "      <td>estimators=[('et',\\n                          ...</td>\n",
              "      <td>0.25</td>\n",
              "      <td>0.807167</td>\n",
              "      <td>0.738116</td>\n",
              "      <td>0.772641</td>\n",
              "      <td>0.832588</td>\n",
              "      <td>0.697287</td>\n",
              "      <td>0.764938</td>\n",
              "      <td>0.819509</td>\n",
              "      <td>0.716386</td>\n",
              "      <td>0.767947</td>\n",
              "      <td>0.781755</td>\n",
              "    </tr>\n",
              "    <tr>\n",
              "      <th>1</th>\n",
              "      <td>VotingClassifier</td>\n",
              "      <td>estimators=[('et',\\n                          ...</td>\n",
              "      <td>0.50</td>\n",
              "      <td>0.847412</td>\n",
              "      <td>0.692664</td>\n",
              "      <td>0.770038</td>\n",
              "      <td>0.767404</td>\n",
              "      <td>0.787702</td>\n",
              "      <td>0.777553</td>\n",
              "      <td>0.805149</td>\n",
              "      <td>0.736993</td>\n",
              "      <td>0.771071</td>\n",
              "      <td>0.778500</td>\n",
              "    </tr>\n",
              "    <tr>\n",
              "      <th>2</th>\n",
              "      <td>VotingClassifier</td>\n",
              "      <td>estimators=[('et',\\n                          ...</td>\n",
              "      <td>0.75</td>\n",
              "      <td>0.870782</td>\n",
              "      <td>0.697129</td>\n",
              "      <td>0.783955</td>\n",
              "      <td>0.761009</td>\n",
              "      <td>0.827825</td>\n",
              "      <td>0.794417</td>\n",
              "      <td>0.812047</td>\n",
              "      <td>0.756846</td>\n",
              "      <td>0.784446</td>\n",
              "      <td>0.789905</td>\n",
              "    </tr>\n",
              "    <tr>\n",
              "      <th>3</th>\n",
              "      <td>VotingClassifier</td>\n",
              "      <td>estimators=[('et',\\n                          ...</td>\n",
              "      <td>1.00</td>\n",
              "      <td>0.924861</td>\n",
              "      <td>0.715912</td>\n",
              "      <td>0.820386</td>\n",
              "      <td>0.759390</td>\n",
              "      <td>0.907186</td>\n",
              "      <td>0.833288</td>\n",
              "      <td>0.833659</td>\n",
              "      <td>0.800101</td>\n",
              "      <td>0.816880</td>\n",
              "      <td>0.820046</td>\n",
              "    </tr>\n",
              "    <tr>\n",
              "      <th>4</th>\n",
              "      <td>VotingClassifier</td>\n",
              "      <td>estimators=[('et',\\n                          ...</td>\n",
              "      <td>0.25</td>\n",
              "      <td>0.808505</td>\n",
              "      <td>0.727899</td>\n",
              "      <td>0.768202</td>\n",
              "      <td>0.820047</td>\n",
              "      <td>0.706526</td>\n",
              "      <td>0.763287</td>\n",
              "      <td>0.813779</td>\n",
              "      <td>0.715774</td>\n",
              "      <td>0.764776</td>\n",
              "      <td>0.776851</td>\n",
              "    </tr>\n",
              "    <tr>\n",
              "      <th>5</th>\n",
              "      <td>VotingClassifier</td>\n",
              "      <td>estimators=[('et',\\n                          ...</td>\n",
              "      <td>0.50</td>\n",
              "      <td>0.853888</td>\n",
              "      <td>0.699804</td>\n",
              "      <td>0.776846</td>\n",
              "      <td>0.771779</td>\n",
              "      <td>0.798879</td>\n",
              "      <td>0.785329</td>\n",
              "      <td>0.810603</td>\n",
              "      <td>0.745972</td>\n",
              "      <td>0.778288</td>\n",
              "      <td>0.785017</td>\n",
              "    </tr>\n",
              "    <tr>\n",
              "      <th>6</th>\n",
              "      <td>VotingClassifier</td>\n",
              "      <td>estimators=[('et',\\n                          ...</td>\n",
              "      <td>0.75</td>\n",
              "      <td>0.872792</td>\n",
              "      <td>0.698604</td>\n",
              "      <td>0.785698</td>\n",
              "      <td>0.762707</td>\n",
              "      <td>0.829520</td>\n",
              "      <td>0.796113</td>\n",
              "      <td>0.813818</td>\n",
              "      <td>0.758294</td>\n",
              "      <td>0.786056</td>\n",
              "      <td>0.791528</td>\n",
              "    </tr>\n",
              "    <tr>\n",
              "      <th>7</th>\n",
              "      <td>VotingClassifier</td>\n",
              "      <td>estimators=[('et',\\n                          ...</td>\n",
              "      <td>1.00</td>\n",
              "      <td>0.914105</td>\n",
              "      <td>0.721211</td>\n",
              "      <td>0.817658</td>\n",
              "      <td>0.771013</td>\n",
              "      <td>0.891544</td>\n",
              "      <td>0.831278</td>\n",
              "      <td>0.836173</td>\n",
              "      <td>0.796989</td>\n",
              "      <td>0.816581</td>\n",
              "      <td>0.820037</td>\n",
              "    </tr>\n",
              "  </tbody>\n",
              "</table>\n",
              "</div>"
            ],
            "text/plain": [
              "         classifier  ...  accuracy\n",
              "0  VotingClassifier  ...  0.781755\n",
              "1  VotingClassifier  ...  0.778500\n",
              "2  VotingClassifier  ...  0.789905\n",
              "3  VotingClassifier  ...  0.820046\n",
              "4  VotingClassifier  ...  0.776851\n",
              "5  VotingClassifier  ...  0.785017\n",
              "6  VotingClassifier  ...  0.791528\n",
              "7  VotingClassifier  ...  0.820037\n",
              "\n",
              "[8 rows x 13 columns]"
            ]
          },
          "metadata": {
            "tags": []
          },
          "execution_count": 258
        }
      ]
    }
  ]
}